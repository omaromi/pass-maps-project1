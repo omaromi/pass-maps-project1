{
 "cells": [
  {
   "cell_type": "code",
   "execution_count": 2,
   "metadata": {},
   "outputs": [
    {
     "name": "stdout",
     "output_type": "stream",
     "text": [
      "credentials were not supplied. open data access only\n"
     ]
    }
   ],
   "source": [
    "#Here we will import the two libraries needed. Statsbomb to access the open data and pandas for data analysis.\n",
    "from statsbombpy import sb\n",
    "import pandas as pd\n",
    "\n",
    "euro = sb.matches(competition_id = 55, season_id=43)\n"
   ]
  },
  {
   "cell_type": "code",
   "execution_count": 7,
   "metadata": {},
   "outputs": [
    {
     "name": "stdout",
     "output_type": "stream",
     "text": [
      "credentials were not supplied. open data access only\n"
     ]
    }
   ],
   "source": [
    "filt = (euro['home_team'] == 'Italy') | (euro['away_team'] == 'Italy')\n",
    "\n",
    "ITAgames = euro[filt]\n",
    "\n",
    "final_match_id = euro.at[4, 'match_id']\n",
    "\n",
    "final_events = sb.events(match_id=final_match_id, split=True, flatten_attrs=False)"
   ]
  },
  {
   "cell_type": "code",
   "execution_count": 10,
   "metadata": {},
   "outputs": [
    {
     "data": {
      "text/plain": [
       "Index(['id', 'index', 'period', 'timestamp', 'minute', 'second', 'type',\n",
       "       'possession', 'possession_team', 'play_pattern', 'team', 'player',\n",
       "       'position', 'location', 'duration', 'related_events', 'pass',\n",
       "       'match_id', 'possession_team_id', 'player_id', 'under_pressure',\n",
       "       'off_camera', 'counterpress'],\n",
       "      dtype='object')"
      ]
     },
     "execution_count": 10,
     "metadata": {},
     "output_type": "execute_result"
    }
   ],
   "source": [
    "final_events['passes']\n",
    "\n",
    "final_events['passes'].keys()\n"
   ]
  }
 ],
 "metadata": {
  "interpreter": {
   "hash": "24384751f449a4ef4c301472608933d24605998ad79e5157e048d508d3e559d9"
  },
  "kernelspec": {
   "display_name": "Python 3.9.7 ('statsbomb_env')",
   "language": "python",
   "name": "python3"
  },
  "language_info": {
   "codemirror_mode": {
    "name": "ipython",
    "version": 3
   },
   "file_extension": ".py",
   "mimetype": "text/x-python",
   "name": "python",
   "nbconvert_exporter": "python",
   "pygments_lexer": "ipython3",
   "version": "3.9.7"
  },
  "orig_nbformat": 4
 },
 "nbformat": 4,
 "nbformat_minor": 2
}
